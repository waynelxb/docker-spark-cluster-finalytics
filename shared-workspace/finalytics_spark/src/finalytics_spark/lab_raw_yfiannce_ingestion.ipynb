{
 "cells": [
  {
   "cell_type": "code",
   "execution_count": 1,
   "id": "bc71f1ce-97ce-4e88-a374-747acfc540fd",
   "metadata": {
    "tags": []
   },
   "outputs": [],
   "source": [
    "import os\n",
    "import yaml\n",
    "import nbimporter\n",
    "from datetime import datetime, date\n",
    "import pyspark\n",
    "from pyspark.sql import SparkSession\n",
    "from pyspark.sql.types import StructType, StructField, IntegerType, StringType, DoubleType,  DateType, TimestampType\n",
    "from pyspark.sql.functions import to_date, to_timestamp\n",
    "from lab_table_manager import TableManager\n",
    "import yfinance as yf\n",
    "from lab_pg_database_manager import PGDatabaseManager"
   ]
  },
  {
   "cell_type": "code",
   "execution_count": 2,
   "id": "c8e29c97-3bf7-4c3f-8608-65c8a39b910f",
   "metadata": {},
   "outputs": [
    {
     "name": "stdout",
     "output_type": "stream",
     "text": [
      ":: loading settings :: url = jar:file:/root/.cache/pypoetry/virtualenvs/finalytics-spark-eEL91G2T-py3.11/lib/python3.11/site-packages/pyspark/jars/ivy-2.5.1.jar!/org/apache/ivy/core/settings/ivysettings.xml\n"
     ]
    },
    {
     "name": "stderr",
     "output_type": "stream",
     "text": [
      "Ivy Default Cache set to: /root/.ivy2/cache\n",
      "The jars for the packages stored in: /root/.ivy2/jars\n",
      "org.postgresql#postgresql added as a dependency\n",
      "org.apache.iceberg#iceberg-spark-runtime-3.5_2.12 added as a dependency\n",
      "org.projectnessie.nessie-integrations#nessie-spark-extensions-3.5_2.12 added as a dependency\n",
      "software.amazon.awssdk#bundle added as a dependency\n",
      "software.amazon.awssdk#url-connection-client added as a dependency\n",
      ":: resolving dependencies :: org.apache.spark#spark-submit-parent-51ec0e15-330b-4556-88cf-7141eddcc6c1;1.0\n",
      "\tconfs: [default]\n",
      "\tfound org.postgresql#postgresql;42.7.3 in central\n",
      "\tfound org.checkerframework#checker-qual;3.42.0 in central\n",
      "\tfound org.apache.iceberg#iceberg-spark-runtime-3.5_2.12;1.5.0 in central\n",
      "\tfound org.projectnessie.nessie-integrations#nessie-spark-extensions-3.5_2.12;0.77.1 in central\n",
      "\tfound software.amazon.awssdk#bundle;2.29.42 in central\n",
      "\tfound software.amazon.awssdk#url-connection-client;2.29.42 in central\n",
      "\tfound software.amazon.awssdk#utils;2.29.42 in central\n",
      "\tfound org.reactivestreams#reactive-streams;1.0.4 in central\n",
      "\tfound software.amazon.awssdk#annotations;2.29.42 in central\n",
      "\tfound org.slf4j#slf4j-api;1.7.36 in central\n",
      "\tfound software.amazon.awssdk#http-client-spi;2.29.42 in central\n",
      "\tfound software.amazon.awssdk#metrics-spi;2.29.42 in central\n",
      "downloading https://repo1.maven.org/maven2/org/postgresql/postgresql/42.7.3/postgresql-42.7.3.jar ...\n",
      "\t[SUCCESSFUL ] org.postgresql#postgresql;42.7.3!postgresql.jar (2047ms)\n",
      "downloading https://repo1.maven.org/maven2/org/apache/iceberg/iceberg-spark-runtime-3.5_2.12/1.5.0/iceberg-spark-runtime-3.5_2.12-1.5.0.jar ...\n",
      "\t[SUCCESSFUL ] org.apache.iceberg#iceberg-spark-runtime-3.5_2.12;1.5.0!iceberg-spark-runtime-3.5_2.12.jar (13210ms)\n",
      "downloading https://repo1.maven.org/maven2/org/projectnessie/nessie-integrations/nessie-spark-extensions-3.5_2.12/0.77.1/nessie-spark-extensions-3.5_2.12-0.77.1.jar ...\n",
      "\t[SUCCESSFUL ] org.projectnessie.nessie-integrations#nessie-spark-extensions-3.5_2.12;0.77.1!nessie-spark-extensions-3.5_2.12.jar (751ms)\n",
      "downloading https://repo1.maven.org/maven2/software/amazon/awssdk/bundle/2.29.42/bundle-2.29.42.jar ...\n",
      "\t[SUCCESSFUL ] software.amazon.awssdk#bundle;2.29.42!bundle.jar (194314ms)\n",
      "downloading https://repo1.maven.org/maven2/software/amazon/awssdk/url-connection-client/2.29.42/url-connection-client-2.29.42.jar ...\n",
      "\t[SUCCESSFUL ] software.amazon.awssdk#url-connection-client;2.29.42!url-connection-client.jar (151ms)\n",
      "downloading https://repo1.maven.org/maven2/org/checkerframework/checker-qual/3.42.0/checker-qual-3.42.0.jar ...\n",
      "\t[SUCCESSFUL ] org.checkerframework#checker-qual;3.42.0!checker-qual.jar (144ms)\n",
      "downloading https://repo1.maven.org/maven2/software/amazon/awssdk/utils/2.29.42/utils-2.29.42.jar ...\n",
      "\t[SUCCESSFUL ] software.amazon.awssdk#utils;2.29.42!utils.jar (147ms)\n",
      "downloading https://repo1.maven.org/maven2/software/amazon/awssdk/annotations/2.29.42/annotations-2.29.42.jar ...\n",
      "\t[SUCCESSFUL ] software.amazon.awssdk#annotations;2.29.42!annotations.jar (143ms)\n",
      "downloading https://repo1.maven.org/maven2/software/amazon/awssdk/http-client-spi/2.29.42/http-client-spi-2.29.42.jar ...\n",
      "\t[SUCCESSFUL ] software.amazon.awssdk#http-client-spi;2.29.42!http-client-spi.jar (151ms)\n",
      "downloading https://repo1.maven.org/maven2/org/reactivestreams/reactive-streams/1.0.4/reactive-streams-1.0.4.jar ...\n",
      "\t[SUCCESSFUL ] org.reactivestreams#reactive-streams;1.0.4!reactive-streams.jar (139ms)\n",
      "downloading https://repo1.maven.org/maven2/org/slf4j/slf4j-api/1.7.36/slf4j-api-1.7.36.jar ...\n",
      "\t[SUCCESSFUL ] org.slf4j#slf4j-api;1.7.36!slf4j-api.jar (140ms)\n",
      "downloading https://repo1.maven.org/maven2/software/amazon/awssdk/metrics-spi/2.29.42/metrics-spi-2.29.42.jar ...\n",
      "\t[SUCCESSFUL ] software.amazon.awssdk#metrics-spi;2.29.42!metrics-spi.jar (113ms)\n",
      ":: resolution report :: resolve 5551ms :: artifacts dl 211472ms\n",
      "\t:: modules in use:\n",
      "\torg.apache.iceberg#iceberg-spark-runtime-3.5_2.12;1.5.0 from central in [default]\n",
      "\torg.checkerframework#checker-qual;3.42.0 from central in [default]\n",
      "\torg.postgresql#postgresql;42.7.3 from central in [default]\n",
      "\torg.projectnessie.nessie-integrations#nessie-spark-extensions-3.5_2.12;0.77.1 from central in [default]\n",
      "\torg.reactivestreams#reactive-streams;1.0.4 from central in [default]\n",
      "\torg.slf4j#slf4j-api;1.7.36 from central in [default]\n",
      "\tsoftware.amazon.awssdk#annotations;2.29.42 from central in [default]\n",
      "\tsoftware.amazon.awssdk#bundle;2.29.42 from central in [default]\n",
      "\tsoftware.amazon.awssdk#http-client-spi;2.29.42 from central in [default]\n",
      "\tsoftware.amazon.awssdk#metrics-spi;2.29.42 from central in [default]\n",
      "\tsoftware.amazon.awssdk#url-connection-client;2.29.42 from central in [default]\n",
      "\tsoftware.amazon.awssdk#utils;2.29.42 from central in [default]\n",
      "\t---------------------------------------------------------------------\n",
      "\t|                  |            modules            ||   artifacts   |\n",
      "\t|       conf       | number| search|dwnlded|evicted|| number|dwnlded|\n",
      "\t---------------------------------------------------------------------\n",
      "\t|      default     |   12  |   12  |   12  |   0   ||   12  |   12  |\n",
      "\t---------------------------------------------------------------------\n",
      ":: retrieving :: org.apache.spark#spark-submit-parent-51ec0e15-330b-4556-88cf-7141eddcc6c1\n",
      "\tconfs: [default]\n",
      "\t12 artifacts copied, 0 already retrieved (671986kB/479ms)\n",
      "25/01/01 23:09:11 WARN NativeCodeLoader: Unable to load native-hadoop library for your platform... using builtin-java classes where applicable\n",
      "Setting default log level to \"WARN\".\n",
      "To adjust logging level use sc.setLogLevel(newLevel). For SparkR, use setLogLevel(newLevel).\n"
     ]
    },
    {
     "data": {
      "text/plain": [
       "DataFrame[]"
      ]
     },
     "execution_count": 2,
     "metadata": {},
     "output_type": "execute_result"
    }
   ],
   "source": [
    "with open(\"cfg_connections.yaml\",\"r\") as file:\n",
    "    config=yaml.safe_load(file)\n",
    "    catalog_uri = config['docker_env']['catalog_uri'] \n",
    "    warehouse = config['docker_env']['warehouse']     # Minio Address to Write to\n",
    "    storage_uri = config['docker_env']['storage_uri'] # Minio IP address from docker inspec\n",
    "\n",
    "# Configure Spark with necessary packages and Iceberg/Nessie settings\n",
    "conf = (\n",
    "    pyspark.SparkConf()\n",
    "        .setAppName('finalytics_app')\n",
    "        # Include necessary packages\n",
    "        .set('spark.jars.packages',\n",
    "             'org.postgresql:postgresql:42.7.3,'\n",
    "             'org.apache.iceberg:iceberg-spark-runtime-3.5_2.12:1.5.0,'\n",
    "             'org.projectnessie.nessie-integrations:nessie-spark-extensions-3.5_2.12:0.77.1,'             \n",
    "             # awssdk 2.29.42 compatible with spark 3.5.4\n",
    "             'software.amazon.awssdk:bundle:2.29.42,'\n",
    "             'software.amazon.awssdk:url-connection-client:2.29.42')\n",
    "        # Enable Iceberg and Nessie extensions\n",
    "        .set('spark.sql.extensions', \n",
    "             'org.apache.iceberg.spark.extensions.IcebergSparkSessionExtensions,'\n",
    "             'org.projectnessie.spark.extensions.NessieSparkSessionExtensions')\n",
    "        # Configure Nessie catalog\n",
    "        .set('spark.sql.catalog.nessie', 'org.apache.iceberg.spark.SparkCatalog')\n",
    "        .set('spark.sql.catalog.nessie.uri', catalog_uri)\n",
    "        .set('spark.sql.catalog.nessie.ref', 'main')\n",
    "        .set('spark.sql.catalog.nessie.authentication.type', 'NONE')\n",
    "        .set('spark.sql.catalog.nessie.catalog-impl', 'org.apache.iceberg.nessie.NessieCatalog')\n",
    "        # Set Minio as the S3 endpoint for Iceberg storage\n",
    "        .set('spark.sql.catalog.nessie.s3.endpoint', storage_uri)\n",
    "        .set('spark.sql.catalog.nessie.warehouse', warehouse)\n",
    "        .set('spark.sql.catalog.nessie.io-impl', 'org.apache.iceberg.aws.s3.S3FileIO')\n",
    "        # Set master location, the job will be sent to the cluster\n",
    "        .set('spark.master', 'spark://172.33.0.30:7077')\n",
    ")   \n",
    "\n",
    "# Start Spark session\n",
    "spark = SparkSession.builder.config(conf=conf).getOrCreate()  \n",
    "# Create the \"raw\" namespace\n",
    "spark.sql(\"CREATE NAMESPACE IF NOT EXISTS nessie.raw;\")\n",
    "\n"
   ]
  },
  {
   "cell_type": "code",
   "execution_count": 3,
   "id": "43f1668e-6c02-40a4-8d8b-4c1e522420fb",
   "metadata": {
    "tags": []
   },
   "outputs": [],
   "source": [
    "def fetch_yfinance_record(symbol_date_pairs):\n",
    "    try:\n",
    "        symbol, start_date = symbol_date_pairs\n",
    "        # Fetch stock data using yfinance\n",
    "        quote = yf.Ticker(symbol)\n",
    "        current_date = date.today()\n",
    "        hist = quote.history(start=start_date, end=current_date)\n",
    "\n",
    "        # Reset index to include Date as a column and format it\n",
    "        hist.reset_index(inplace=True)\n",
    "        hist[\"Date\"] = hist[\"Date\"].dt.date\n",
    "        \n",
    "        # limit and stablize the fields of hist\n",
    "        hist = hist[['Date', 'Open', 'High', 'Low', 'Close', 'Volume', 'Dividends', 'Stock Splits']]\n",
    "        \n",
    "        # Add symbol and import_time to each row\n",
    "        record_list = [\n",
    "            tuple(row) + (symbol, import_time) for row in hist.itertuples(index=False)\n",
    "        ]\n",
    "\n",
    "        # print(record_list)\n",
    "        return record_list\n",
    "\n",
    "    except Exception as e:\n",
    "        print(f\"Error fetching data for {symbol}: {e}\")\n",
    "        return []  # Return an empty list on error"
   ]
  },
  {
   "cell_type": "code",
   "execution_count": 4,
   "id": "fa7a8628-9f57-478a-9ca5-5e500fceb7a6",
   "metadata": {
    "tags": []
   },
   "outputs": [],
   "source": [
    "def parallel_fetch_yfinance_record(symbol_date_pairs, record_schema):\n",
    "    try:\n",
    "        # Distribute (symbol, start_date) pairs across Spark workers\n",
    "        record_rdd = spark.sparkContext.parallelize(symbol_date_pairs)\n",
    "\n",
    "        \n",
    "        # Fetch data in parallel\n",
    "        mapped_record_rdd = record_rdd.flatMap(fetch_yfinance_record)\n",
    "\n",
    "        # Convert RDD to DataFrame\n",
    "        result_df = spark.createDataFrame(mapped_record_rdd, schema=record_schema)\n",
    "        # result_df = spark.createDataFrame(mapped_record_rdd)\n",
    "\n",
    "        # Show or save the results\n",
    "        # result_df.show()\n",
    "        return result_df\n",
    "    except Exception as e:\n",
    "        print(f\"Error paralleling fetch: {e}\")\n",
    "        return spark.createDataFrame([])"
   ]
  },
  {
   "cell_type": "code",
   "execution_count": 5,
   "id": "78b02da3-a584-4dbd-b44b-ccd3d5bbed1a",
   "metadata": {
    "tags": []
   },
   "outputs": [],
   "source": [
    "def load_iceberg_raw_eod_yfinance(symbol_date_pairs, iceberg_sink_table, schema_config_file):\n",
    "    try: \n",
    "        table_manager=TableManager(schema_config_file)\n",
    "        schema_struct_type=table_manager.get_struct_type(iceberg_sink_table)   \n",
    "\n",
    "        # print(schema_struct_type)\n",
    "        create_table_script = table_manager.get_create_table_query(iceberg_sink_table)\n",
    "        spark.sql(create_table_script)\n",
    "\n",
    "        df_source=parallel_fetch_yfinance_record(symbol_date_pairs, schema_struct_type)\n",
    "        \n",
    "        # df_source.writeTo(iceberg_sink_table).append()\n",
    "        df_source.write.mode(\"overwrite\").saveAsTable(iceberg_sink_table)    \n",
    "        # df_source.writeTo(iceberg_sink_table).overwritePartitions() \n",
    "\n",
    "        print(f\"{iceberg_sink_table} has been loaded\")\n",
    "        \n",
    "    except Exception as e:\n",
    "        print(f\"Error loading lceberg raw table: {e}\")\n",
    "        "
   ]
  },
  {
   "cell_type": "code",
   "execution_count": 6,
   "id": "a2dff869-fe5d-4be5-8762-3ea44b8ce947",
   "metadata": {},
   "outputs": [],
   "source": [
    "def load_pg_finalytics(iceberg_source_table, pg_url, pg_driver, pg_sink_table, pg_truncate_script, pg_merge_script):   \n",
    "    try:     \n",
    "        df_source=spark.read.table(iceberg_source_table)          \n",
    "        finalytics.execute_sql_script(pg_truncate_script)\n",
    "        \n",
    "        # Write DataFrame to PostgreSQL\n",
    "        df_source.write.jdbc(url=pg_url, table=pg_sink_table, mode=\"append\", properties={\"driver\": pg_driver})        \n",
    "        finalytics.execute_sql_script(pg_merge_script)\n",
    "    except Exception as e:\n",
    "        print(f\"Error loading pg finalytics: {e}\")        \n"
   ]
  },
  {
   "cell_type": "markdown",
   "id": "519c3d0f-0086-4ca7-bb71-974aaedc0d9f",
   "metadata": {
    "tags": []
   },
   "source": [
    "## Load nessie.raw.stock_eod_yfinance"
   ]
  },
  {
   "cell_type": "code",
   "execution_count": 7,
   "id": "87ce60ae-b25b-44e2-a2a3-c33c05aa5172",
   "metadata": {
    "tags": []
   },
   "outputs": [
    {
     "name": "stderr",
     "output_type": "stream",
     "text": [
      "SLF4J: Failed to load class \"org.slf4j.impl.StaticLoggerBinder\".\n",
      "SLF4J: Defaulting to no-operation (NOP) logger implementation\n",
      "SLF4J: See http://www.slf4j.org/codes.html#StaticLoggerBinder for further details.\n",
      "                                                                                "
     ]
    },
    {
     "name": "stdout",
     "output_type": "stream",
     "text": [
      "nessie.raw.stock_eod_yfinance has been loaded\n"
     ]
    }
   ],
   "source": [
    "# symbol_start_date_pairs = [\n",
    "#     ('TSLA', '2024-11-20'),\n",
    "#     ('AAPL', '2024-11-20'),\n",
    "#     ('C', '2024-11-20'),\n",
    "# ]\n",
    "\n",
    "# Get finalytics connetion info\n",
    "conn_config_file='cfg_connections.yaml'\n",
    "finalytics=PGDatabaseManager(conn_config_file, 'finalytics')\n",
    "pg_url=finalytics.jdbc_url\n",
    "pg_driver=finalytics.driver\n",
    "\n",
    "# Get symbol_start_date_pairs from finalytics\n",
    "query=\"select symbol, start_date from fin.vw_etl_stock_eod_start_date limit 20\"\n",
    "# query=\"select symbol, start_date from fin.vw_etl_stock_eod_start_date\"\n",
    "symbol_start_date_pairs=finalytics.get_sql_script_result_list(query)\n",
    "# print(symbol_start_date_pairs)\n",
    "\n",
    "\n",
    "# Get iceberg table config info\n",
    "table_schema_config_file='cfg_table_schemas.yaml'\n",
    "iceberg_table='nessie.raw.stock_eod_yfinance'\n",
    "\n",
    "# Set global import_time\n",
    "import_time = datetime.now().isoformat()\n",
    "\n",
    "# Load nessie.raw.stock_eod_yfinance \n",
    "load_iceberg_raw_eod_yfinance(symbol_start_date_pairs, iceberg_table, table_schema_config_file)\n"
   ]
  },
  {
   "cell_type": "markdown",
   "id": "c06a9dbb-80b6-49fb-8d87-d75e62c60416",
   "metadata": {},
   "source": [
    "## Load finalytics.stage.stock_eod_quote_yahoo and merge into fin.stock_eod_quote"
   ]
  },
  {
   "cell_type": "code",
   "execution_count": 8,
   "id": "7ff6a1d9-c5fa-4697-9b7b-b257048855eb",
   "metadata": {
    "tags": []
   },
   "outputs": [
    {
     "name": "stderr",
     "output_type": "stream",
     "text": [
      "                                                                                "
     ]
    }
   ],
   "source": [
    "pg_table = \"stage.stock_eod_quote_yahoo\"  # Replace with the PostgreSQL table name\n",
    "\n",
    "pg_truncate_script = f\"truncate table {pg_table};\"\n",
    "\n",
    "pg_merge_script = \"call fin.usp_load_stock_eod();\"\n",
    "\n",
    "load_pg_finalytics(iceberg_table, pg_url, pg_driver, pg_table,  pg_truncate_script, pg_merge_script)"
   ]
  },
  {
   "cell_type": "code",
   "execution_count": 9,
   "id": "c3904a34-d834-4d28-87b6-21f2b271fbb3",
   "metadata": {
    "tags": []
   },
   "outputs": [
    {
     "name": "stdout",
     "output_type": "stream",
     "text": [
      "+--------+\n",
      "|count(1)|\n",
      "+--------+\n",
      "|      20|\n",
      "+--------+\n",
      "\n"
     ]
    }
   ],
   "source": [
    "spark.sql(f'select count(*) from {iceberg_table}').show()"
   ]
  },
  {
   "cell_type": "code",
   "execution_count": 10,
   "id": "06376922-1939-4c55-bde2-0be33707d47a",
   "metadata": {
    "tags": []
   },
   "outputs": [
    {
     "name": "stdout",
     "output_type": "stream",
     "text": [
      "+----------+------+------+-------+------+--------+---------+------------+------+--------------------------+\n",
      "|date      |open  |high  |low    |close |volume  |dividends|stock_splits|symbol|import_time               |\n",
      "+----------+------+------+-------+------+--------+---------+------------+------+--------------------------+\n",
      "|2024-12-31|39.63 |39.78 |39.47  |39.6  |146000  |0.0      |0.0         |SRDX  |2025-01-01T23:09:30.751918|\n",
      "|2024-12-31|9.32  |9.61  |9.31   |9.4   |11845200|0.0      |0.0         |CLF   |2025-01-01T23:09:30.751918|\n",
      "|2024-12-31|12.0  |12.0  |12.0   |12.0  |0       |0.0      |0.0         |WINV  |2025-01-01T23:09:30.751918|\n",
      "|2024-12-31|1.11  |1.17  |1.11   |1.13  |13400   |0.0      |0.0         |LVLU  |2025-01-01T23:09:30.751918|\n",
      "|2024-12-31|59.54 |60.0  |58.9   |59.14 |1122800 |0.0      |0.0         |TRNO  |2025-01-01T23:09:30.751918|\n",
      "|2024-12-31|213.12|215.1 |212.35 |213.63|401300  |0.0      |0.0         |RGA   |2025-01-01T23:09:30.751918|\n",
      "|2024-12-31|3.44  |3.44  |2.76   |3.2   |119600  |0.0      |0.0         |POLA  |2025-01-01T23:09:30.751918|\n",
      "|2024-12-31|98.99 |98.99 |96.96  |97.97 |107100  |0.0      |0.0         |SNEX  |2025-01-01T23:09:30.751918|\n",
      "|2024-12-31|3.19  |3.19  |3.1    |3.14  |51700   |0.0      |0.0         |MKFG  |2025-01-01T23:09:30.751918|\n",
      "|2024-12-31|5.64  |5.75  |5.56   |5.67  |314200  |0.0      |0.0         |VYGR  |2025-01-01T23:09:30.751918|\n",
      "|2024-12-31|20.71 |20.97 |20.4   |20.64 |71700   |0.0      |0.0         |RMR   |2025-01-01T23:09:30.751918|\n",
      "|2024-12-31|9.36  |9.68  |9.27   |9.33  |9100    |0.0      |0.0         |LIVE  |2025-01-01T23:09:30.751918|\n",
      "|2024-12-31|10.61 |10.76 |10.45  |10.55 |371700  |0.0      |0.0         |AMPL  |2025-01-01T23:09:30.751918|\n",
      "|2024-12-31|8.95  |9.12  |8.65   |8.82  |211400  |0.0      |0.0         |CYBN  |2025-01-01T23:09:30.751918|\n",
      "|2024-12-31|21.47 |21.585|21.31  |21.5  |651500  |0.0      |0.0         |UE    |2025-01-01T23:09:30.751918|\n",
      "|2024-12-31|138.0 |138.0 |134.711|137.67|244700  |0.0      |0.0         |ASND  |2025-01-01T23:09:30.751918|\n",
      "|2024-12-31|0.43  |0.44  |0.35   |0.37  |562900  |0.0      |0.0         |OGEN  |2025-01-01T23:09:30.751918|\n",
      "|2024-12-31|27.46 |29.51 |27.44  |28.95 |348200  |0.0      |0.0         |HZO   |2025-01-01T23:09:30.751918|\n",
      "|2024-12-31|7.37  |7.68  |7.35   |7.62  |223700  |0.0      |0.0         |RCS   |2025-01-01T23:09:30.751918|\n",
      "|2024-12-31|358.43|360.54|355.0  |357.43|179400  |0.0      |0.0         |LAD   |2025-01-01T23:09:30.751918|\n",
      "+----------+------+------+-------+------+--------+---------+------------+------+--------------------------+\n",
      "\n"
     ]
    }
   ],
   "source": [
    "spark.sql('select * from nessie.raw.stock_eod_yfinance').show(truncate=False)"
   ]
  },
  {
   "cell_type": "code",
   "execution_count": 11,
   "id": "9a96c0a5-9315-4e5f-a4ed-6c717efd9a0b",
   "metadata": {},
   "outputs": [],
   "source": [
    "# print(symbol_start_date_pairs)"
   ]
  },
  {
   "cell_type": "code",
   "execution_count": null,
   "id": "2c9fe6e2-70e2-4386-baba-275fdf134a58",
   "metadata": {},
   "outputs": [],
   "source": []
  }
 ],
 "metadata": {
  "kernelspec": {
   "display_name": "Poetry",
   "language": "python",
   "name": "poetry-kernel"
  },
  "language_info": {
   "codemirror_mode": {
    "name": "ipython",
    "version": 3
   },
   "file_extension": ".py",
   "mimetype": "text/x-python",
   "name": "python",
   "nbconvert_exporter": "python",
   "pygments_lexer": "ipython3",
   "version": "3.11.11"
  }
 },
 "nbformat": 4,
 "nbformat_minor": 5
}
