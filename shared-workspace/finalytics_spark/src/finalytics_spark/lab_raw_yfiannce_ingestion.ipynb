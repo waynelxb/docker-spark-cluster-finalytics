{
 "cells": [
  {
   "cell_type": "markdown",
   "id": "5b83de71-675c-4c2c-aef4-b43ddf06cf48",
   "metadata": {},
   "source": [
    "# It is not stable, tried a lot but don't know why! \n",
    "# Spark=3.5.2, pySpark=3.5.2, awssdk=2.24.8\n",
    "# Don't waste your time anymore!\n",
    "# Everytime you restart container, you do better close the browser and restart JupyterLab UI again to avoid the issues caused by caching!!!"
   ]
  },
  {
   "cell_type": "code",
   "execution_count": 59,
   "id": "bc71f1ce-97ce-4e88-a374-747acfc540fd",
   "metadata": {
    "tags": []
   },
   "outputs": [],
   "source": [
    "import os\n",
    "import yaml\n",
    "import nbimporter\n",
    "from datetime import datetime, date\n",
    "import pyspark\n",
    "from pyspark.sql import SparkSession\n",
    "from pyspark.sql.types import StructType, StructField, IntegerType, StringType, DoubleType,  DateType, TimestampType\n",
    "from pyspark.sql.functions import to_date, to_timestamp\n",
    "\n",
    "from lab_schema_manager import SchemaManager\n",
    "import yfinance as yf\n",
    "from lab_pg_database_manager import PGDatabaseManager\n",
    "from lab_spark import create_spark_session\n",
    "from lab_raw_yfinance import RawYFinance\n",
    "import time\n",
    "import random"
   ]
  },
  {
   "cell_type": "code",
   "execution_count": 60,
   "id": "43f1668e-6c02-40a4-8d8b-4c1e522420fb",
   "metadata": {
    "tags": []
   },
   "outputs": [],
   "source": [
    "def fetch_yfinance_record(symbol_date_pair):\n",
    "    try:\n",
    "     \n",
    "        symbol, start_date = symbol_date_pair\n",
    "        # Fetch stock data using yfinance\n",
    "        quote = yf.Ticker(symbol)\n",
    "        current_date = date.today()\n",
    "        hist = quote.history(start=start_date, end=current_date)\n",
    "\n",
    "        # Reset index to include Date as a column and format it\n",
    "        hist.reset_index(inplace=True)\n",
    "        hist[\"Date\"] = hist[\"Date\"].dt.date\n",
    "        \n",
    "        # limit and stablize the fields of hist\n",
    "        hist = hist[['Date', 'Open', 'High', 'Low', 'Close', 'Volume', 'Dividends', 'Stock Splits']]\n",
    "        \n",
    "        # Add symbol and import_time to each row\n",
    "        record_list = [\n",
    "            tuple(row) + (symbol, import_time) for row in hist.itertuples(index=False)\n",
    "        ]\n",
    "        \n",
    "        random_sleep_time = random.uniform(0.1, 0.9)\n",
    "        time.sleep(random_sleep_time)\n",
    "     \n",
    "        return record_list\n",
    "\n",
    "    except Exception as e:\n",
    "        print(f\"Error fetching data for {symbol}: {e}\")\n",
    "        return []  # Return an empty list on error"
   ]
  },
  {
   "cell_type": "code",
   "execution_count": 61,
   "id": "fa7a8628-9f57-478a-9ca5-5e500fceb7a6",
   "metadata": {
    "tags": []
   },
   "outputs": [],
   "source": [
    "def parallel_fetch_yfinance_record(symbol_date_pairs, record_schema):\n",
    "    try:\n",
    "        # Distribute (symbol, start_date) pairs across Spark workers\n",
    "        record_rdd = spark.sparkContext.parallelize(symbol_date_pairs)\n",
    "        \n",
    "        # Fetch data in parallel\n",
    "        mapped_record_rdd = record_rdd.flatMap(fetch_yfinance_record)\n",
    "        \n",
    "        # if fetch_yfinance_record is updated to fetch_yfinance_record(pair, equity_type)(pair, equity_type)\n",
    "        # method 1:\n",
    "        # mapped_record_rdd = record_rdd.flatMap(lambda pair: fetch_yfinance_record(pair, equity_type))\n",
    "        # # Partially apply the equity_type to fetch_with_equity_type\n",
    "        # method 2:\n",
    "        # fetch_function = partial(fetch_with_equity_type, equity_type=equity_type)\n",
    "        # # Fetch data in parallel using the wrapper\n",
    "        # mapped_record_rdd = record_rdd.flatMap(fetch_function)\n",
    "        \n",
    "        # Convert RDD to DataFrame\n",
    "        result_df = spark.createDataFrame(mapped_record_rdd, schema=record_schema)  \n",
    "\n",
    "        return result_df\n",
    "    except Exception as e:\n",
    "        print(f\"Error paralleling fetch: {e}\")\n",
    "        return spark.createDataFrame([])"
   ]
  },
  {
   "cell_type": "code",
   "execution_count": 62,
   "id": "78b02da3-a584-4dbd-b44b-ccd3d5bbed1a",
   "metadata": {
    "tags": []
   },
   "outputs": [],
   "source": [
    "def load_iceberg_raw_eod_yfinance(symbol_date_pairs, iceberg_sink_table, schema_config_file):\n",
    "    try: \n",
    "        schema_manager=SchemaManager(schema_config_file)\n",
    "        schema_struct_type=schema_manager.get_struct_type(\"tables\", iceberg_sink_table)  \n",
    "        # print(schema_struct_type)\n",
    "        \n",
    "        create_table_script = schema_manager.get_create_table_query(\"tables\", iceberg_sink_table)\n",
    "        # print(create_table_script)\n",
    "        spark.sql(create_table_script)\n",
    "\n",
    "        df_source=parallel_fetch_yfinance_record(symbol_date_pairs, schema_struct_type)        \n",
    "        # df_source.writeTo(iceberg_sink_table).append()\n",
    "        df_source.write.mode(\"overwrite\").saveAsTable(iceberg_sink_table)    \n",
    "\n",
    "        print(f\"{iceberg_sink_table} has been loaded\")\n",
    "        \n",
    "    except Exception as e:\n",
    "        print(f\"Error loading lceberg raw table: {e}\")\n",
    "        "
   ]
  },
  {
   "cell_type": "code",
   "execution_count": 63,
   "id": "a2dff869-fe5d-4be5-8762-3ea44b8ce947",
   "metadata": {},
   "outputs": [],
   "source": [
    "def load_pg_finalytics(iceberg_source_table, pg_url, pg_driver, pg_sink_table, pg_truncate_script, pg_merge_script):   \n",
    "    try:     \n",
    "        df_source=spark.read.table(iceberg_source_table)          \n",
    "        finalytics.execute_sql_script(pg_truncate_script)\n",
    "        \n",
    "        # Write DataFrame to PostgreSQL\n",
    "        df_source.write.jdbc(url=pg_url, table=pg_sink_table, mode=\"append\", properties={\"driver\": pg_driver})        \n",
    "        finalytics.execute_sql_script(pg_merge_script)\n",
    "        \n",
    "    except Exception as e:\n",
    "        print(f\"Error loading pg finalytics: {e}\")        \n"
   ]
  },
  {
   "cell_type": "markdown",
   "id": "519c3d0f-0086-4ca7-bb71-974aaedc0d9f",
   "metadata": {
    "tags": []
   },
   "source": [
    "## Load nessie.raw.stock_eod_yfinance"
   ]
  },
  {
   "cell_type": "code",
   "execution_count": 64,
   "id": "87ce60ae-b25b-44e2-a2a3-c33c05aa5172",
   "metadata": {
    "tags": []
   },
   "outputs": [
    {
     "name": "stderr",
     "output_type": "stream",
     "text": [
      "[Stage 22:===========================================>              (3 + 1) / 4]"
     ]
    },
    {
     "name": "stdout",
     "output_type": "stream",
     "text": [
      "nessie.raw.stock_eod_yfinance has been loaded\n"
     ]
    },
    {
     "name": "stderr",
     "output_type": "stream",
     "text": [
      "                                                                                "
     ]
    }
   ],
   "source": [
    "# symbol_start_date_pairs = [\n",
    "#     ('TSLA', '2024-11-20'),\n",
    "#     ('AAPL', '2024-11-20'),\n",
    "#     ('C', '2024-11-20'),\n",
    "# ]\n",
    "\n",
    "# Get finalytics db connetion info\n",
    "conn_config_file='cfg_connections.yaml'\n",
    "finalytics=PGDatabaseManager(conn_config_file, 'finalytics')\n",
    "pg_url=finalytics.jdbc_url\n",
    "pg_driver=finalytics.driver\n",
    "\n",
    "# Get symbol_start_date_pairs from finalytics db\n",
    "# query=\"select symbol, start_date from fin.vw_etl_stock_eod_start_date limit 2500\"\n",
    "query=\"select symbol, start_date from fin.vw_etl_stock_eod_start_date\"\n",
    "symbol_start_date_pairs=finalytics.get_sql_script_result_list(query)\n",
    "# print(symbol_start_date_pairs)\n",
    "\n",
    "\n",
    "# Get iceberg table config info\n",
    "table_schema_config_file='cfg_table_schemas.yaml'\n",
    "iceberg_table='nessie.raw.stock_eod_yfinance'\n",
    "\n",
    "# Set global import_time\n",
    "import_time = datetime.now().isoformat()\n",
    "\n",
    "\n",
    "# Create Spark Session\n",
    "connection_config_file=\"cfg_connections.yaml\"\n",
    "spark_app_name=\"raw_yfinance\"\n",
    "spark=create_spark_session(connection_config_file, spark_app_name)\n",
    "spark.sql(\"CREATE NAMESPACE IF NOT EXISTS nessie.raw;\")\n",
    "\n",
    "# Load nessie.raw.stock_eod_yfinance \n",
    "load_iceberg_raw_eod_yfinance(symbol_start_date_pairs, iceberg_table, table_schema_config_file)\n"
   ]
  },
  {
   "cell_type": "markdown",
   "id": "c06a9dbb-80b6-49fb-8d87-d75e62c60416",
   "metadata": {},
   "source": [
    "## Load finalytics.stage.stock_eod_quote_yahoo and merge into fin.stock_eod_quote"
   ]
  },
  {
   "cell_type": "code",
   "execution_count": 65,
   "id": "7ff6a1d9-c5fa-4697-9b7b-b257048855eb",
   "metadata": {
    "tags": []
   },
   "outputs": [
    {
     "name": "stderr",
     "output_type": "stream",
     "text": [
      "                                                                                "
     ]
    }
   ],
   "source": [
    "pg_table = \"stage.stock_eod_quote_yahoo\"  # Replace with the PostgreSQL table name\n",
    "\n",
    "pg_truncate_script = f\"truncate table {pg_table};\"\n",
    "\n",
    "pg_merge_script = \"call fin.usp_load_stock_eod();\"\n",
    "\n",
    "load_pg_finalytics(iceberg_table, pg_url, pg_driver, pg_table,  pg_truncate_script, pg_merge_script)"
   ]
  },
  {
   "cell_type": "code",
   "execution_count": 66,
   "id": "c3904a34-d834-4d28-87b6-21f2b271fbb3",
   "metadata": {
    "tags": []
   },
   "outputs": [
    {
     "name": "stdout",
     "output_type": "stream",
     "text": [
      "+--------+\n",
      "|count(1)|\n",
      "+--------+\n",
      "|    5732|\n",
      "+--------+\n",
      "\n"
     ]
    }
   ],
   "source": [
    "spark.sql(f'select count(*) from {iceberg_table}').show()"
   ]
  },
  {
   "cell_type": "code",
   "execution_count": 67,
   "id": "06376922-1939-4c55-bde2-0be33707d47a",
   "metadata": {
    "tags": []
   },
   "outputs": [
    {
     "name": "stdout",
     "output_type": "stream",
     "text": [
      "+----------+-----+-------+------+-----+--------+---------+------------+------+--------------------------+\n",
      "|date      |open |high   |low   |close|volume  |dividends|stock_splits|symbol|import_time               |\n",
      "+----------+-----+-------+------+-----+--------+---------+------------+------+--------------------------+\n",
      "|2024-11-14|1.9  |1.725  |1.725 |1.725|129682  |0.0      |0.0         |EIGR  |2025-01-04T15:58:50.024355|\n",
      "|2024-11-26|44.66|44.72  |44.565|44.63|1429608 |0.0      |0.0         |VSTO  |2025-01-04T15:58:50.024355|\n",
      "|2024-11-21|29.11|29.37  |28.43 |28.55|36027438|0.0      |0.0         |MRO   |2025-01-04T15:58:50.024355|\n",
      "|2024-12-10|12.86|14.08  |12.42 |12.42|6127    |0.0      |0.0         |THCPU |2025-01-04T15:58:50.024355|\n",
      "|2024-12-10|13.85|13.9431|11.965|12.24|82487   |0.0      |0.0         |THCP  |2025-01-04T15:58:50.024355|\n",
      "|2024-11-14|0.4  |0.33   |0.33  |0.33 |1925613 |0.0      |0.0         |VIEW  |2025-01-04T15:58:50.024355|\n",
      "|2024-12-17|63.49|63.5   |63.44 |63.48|13674041|0.0      |0.0         |CTLT  |2025-01-04T15:58:50.024355|\n",
      "|2024-11-14|16.78|16.74  |16.74 |16.74|865786  |0.0      |0.0         |STER  |2025-01-04T15:58:50.024355|\n",
      "|2024-12-31|18.88|19.01  |18.75 |18.87|386800  |0.0      |0.0         |PFS   |2025-01-04T15:58:50.024355|\n",
      "|2025-01-02|19.06|19.14  |18.58 |18.6 |563700  |0.0      |0.0         |PFS   |2025-01-04T15:58:50.024355|\n",
      "+----------+-----+-------+------+-----+--------+---------+------------+------+--------------------------+\n",
      "\n"
     ]
    }
   ],
   "source": [
    "spark.sql('select * from nessie.raw.stock_eod_yfinance limit 10').show(truncate=False)"
   ]
  },
  {
   "cell_type": "code",
   "execution_count": 68,
   "id": "9a96c0a5-9315-4e5f-a4ed-6c717efd9a0b",
   "metadata": {},
   "outputs": [
    {
     "name": "stdout",
     "output_type": "stream",
     "text": [
      "1549\n"
     ]
    }
   ],
   "source": [
    "print(len(symbol_start_date_pairs))"
   ]
  },
  {
   "cell_type": "code",
   "execution_count": 69,
   "id": "9887785b-a053-4ad8-ae3a-a86b40847fb9",
   "metadata": {},
   "outputs": [
    {
     "name": "stdout",
     "output_type": "stream",
     "text": [
      "                           Open  High   Low  Close    Volume  Dividends  \\\n",
      "Date                                                                      \n",
      "2025-01-03 00:00:00-05:00  9.71  9.79  9.12    9.5  21212300        0.0   \n",
      "\n",
      "                           Stock Splits  \n",
      "Date                                     \n",
      "2025-01-03 00:00:00-05:00           0.0  \n"
     ]
    }
   ],
   "source": [
    "quote = yf.Ticker('CLF')\n",
    "current_date = date.today()\n",
    "hist = quote.history(start='2025-01-03', end=current_date)\n",
    "print(hist)"
   ]
  },
  {
   "cell_type": "code",
   "execution_count": 70,
   "id": "d0e2ca76-b3ff-42db-a8cd-287de8de16ca",
   "metadata": {},
   "outputs": [
    {
     "data": {
      "text/plain": [
       "[(datetime.date(2025, 1, 3),\n",
       "  9.710000038146973,\n",
       "  9.789999961853027,\n",
       "  9.119999885559082,\n",
       "  9.5,\n",
       "  21212300,\n",
       "  0.0,\n",
       "  0.0,\n",
       "  'CLF',\n",
       "  '2025-01-04T15:58:50.024355')]"
      ]
     },
     "execution_count": 70,
     "metadata": {},
     "output_type": "execute_result"
    }
   ],
   "source": [
    "symbol_date_pair=('CLF', '2025-01-03')\n",
    "\n",
    "fetch_yfinance_record(symbol_date_pair)"
   ]
  },
  {
   "cell_type": "code",
   "execution_count": null,
   "id": "c572c23f-7de5-440d-b279-ecd9a6615e6a",
   "metadata": {},
   "outputs": [],
   "source": []
  }
 ],
 "metadata": {
  "kernelspec": {
   "display_name": "Poetry",
   "language": "python",
   "name": "poetry-kernel"
  },
  "language_info": {
   "codemirror_mode": {
    "name": "ipython",
    "version": 3
   },
   "file_extension": ".py",
   "mimetype": "text/x-python",
   "name": "python",
   "nbconvert_exporter": "python",
   "pygments_lexer": "ipython3",
   "version": "3.11.11"
  }
 },
 "nbformat": 4,
 "nbformat_minor": 5
}
