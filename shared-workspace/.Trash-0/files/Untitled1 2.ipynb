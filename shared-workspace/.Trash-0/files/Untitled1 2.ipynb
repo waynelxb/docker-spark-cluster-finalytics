{
 "cells": [
  {
   "cell_type": "code",
   "execution_count": null,
   "id": "c401cb97-7947-4e35-b9d2-9f04229aef4c",
   "metadata": {},
   "outputs": [],
   "source": []
  }
 ],
 "metadata": {
  "kernelspec": {
   "display_name": "Poetry",
   "language": "python",
   "name": "poetry-kernel"
  },
  "language_info": {
   "name": ""
  }
 },
 "nbformat": 4,
 "nbformat_minor": 5
}
