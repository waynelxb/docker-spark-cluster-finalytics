{
 "cells": [
  {
   "cell_type": "code",
   "execution_count": null,
   "id": "ebbd3d18-7951-4e39-aa25-146262eac6fd",
   "metadata": {},
   "outputs": [],
   "source": []
  }
 ],
 "metadata": {
  "kernelspec": {
   "display_name": "Poetry",
   "language": "python",
   "name": "poetry-kernel"
  },
  "language_info": {
   "name": ""
  }
 },
 "nbformat": 4,
 "nbformat_minor": 5
}
