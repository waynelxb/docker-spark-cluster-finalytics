{
 "cells": [
  {
   "cell_type": "code",
   "execution_count": null,
   "id": "77ad96bd-fba6-4c58-9e30-d44071b4fd7c",
   "metadata": {},
   "outputs": [],
   "source": []
  }
 ],
 "metadata": {
  "kernelspec": {
   "display_name": "Poetry",
   "language": "python",
   "name": "poetry-kernel"
  },
  "language_info": {
   "name": ""
  }
 },
 "nbformat": 4,
 "nbformat_minor": 5
}
